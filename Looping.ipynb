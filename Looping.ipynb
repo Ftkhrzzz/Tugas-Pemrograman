{
 "cells": [
  {
   "cell_type": "code",
   "execution_count": 1,
   "id": "b99e870a",
   "metadata": {},
   "outputs": [
    {
     "name": "stdout",
     "output_type": "stream",
     "text": [
      "1\n",
      "2\n",
      "3\n",
      "4\n",
      "5\n",
      "6\n",
      "7\n",
      "8\n",
      "9\n",
      "10\n"
     ]
    }
   ],
   "source": [
    "# For in range\n",
    "# print 1 - 10\n",
    "\n",
    "for i in range(1,11):\n",
    "    print(i)"
   ]
  },
  {
   "cell_type": "code",
   "execution_count": 2,
   "id": "72b0ff52",
   "metadata": {},
   "outputs": [
    {
     "name": "stdout",
     "output_type": "stream",
     "text": [
      "10\n",
      "20\n",
      "30\n",
      "40\n",
      "50\n",
      "60\n",
      "70\n",
      "80\n",
      "90\n",
      "100\n"
     ]
    }
   ],
   "source": [
    "# print 10 20 30 40 50 --- 100\n",
    "\n",
    "for i in range(1,11):\n",
    "    print(i*10)"
   ]
  },
  {
   "cell_type": "code",
   "execution_count": 3,
   "id": "d47970ac",
   "metadata": {},
   "outputs": [
    {
     "name": "stdout",
     "output_type": "stream",
     "text": [
      "10\n",
      "20\n",
      "30\n",
      "40\n",
      "50\n",
      "60\n",
      "70\n",
      "80\n",
      "90\n",
      "100\n"
     ]
    }
   ],
   "source": [
    "for i in range(10,110,10):\n",
    "    print(i)"
   ]
  },
  {
   "cell_type": "code",
   "execution_count": 4,
   "id": "63d7466a",
   "metadata": {},
   "outputs": [
    {
     "name": "stdout",
     "output_type": "stream",
     "text": [
      "10\n",
      "9\n",
      "8\n",
      "7\n",
      "6\n",
      "5\n",
      "4\n",
      "3\n",
      "2\n",
      "1\n"
     ]
    }
   ],
   "source": [
    "# 10 9 8 7 --- 1\n",
    "\n",
    "for i in range(10,0,-1):\n",
    "    print(i)"
   ]
  },
  {
   "cell_type": "code",
   "execution_count": 15,
   "id": "8962cdaf",
   "metadata": {},
   "outputs": [
    {
     "name": "stdout",
     "output_type": "stream",
     "text": [
      "1\n",
      "-2\n",
      "3\n",
      "-4\n",
      "5\n",
      "-6\n",
      "7\n",
      "-8\n",
      "9\n",
      "-10\n"
     ]
    }
   ],
   "source": [
    "# 1 -2 3 -4 5 -6 7 -8 9 -1o\n",
    "sign = 1\n",
    "for i in range(1,11):\n",
    "    print(i * sign)\n",
    "    sign *=-1"
   ]
  },
  {
   "cell_type": "code",
   "execution_count": 21,
   "id": "ddac6280",
   "metadata": {},
   "outputs": [
    {
     "name": "stdout",
     "output_type": "stream",
     "text": [
      "Isikan bilangan2\n",
      "factorial dari 2! adalah 2\n"
     ]
    }
   ],
   "source": [
    "# factorial => input 4! =  4 * 3 * 2 * 1 = 24\n",
    "\n",
    "number = int(input('Isikan bilangan'))\n",
    "\n",
    "result = 1\n",
    "for i in range(1, number+1):\n",
    "    result = result * i\n",
    "    \n",
    "print(f\"factorial dari {number}! adalah {result}\")"
   ]
  },
  {
   "cell_type": "code",
   "execution_count": 25,
   "id": "1d2008bd",
   "metadata": {},
   "outputs": [
    {
     "name": "stdout",
     "output_type": "stream",
     "text": [
      "Isikan bilangan4\n",
      "Isikan pangkat2\n",
      "4 pangkat 2! adalah 16\n"
     ]
    }
   ],
   "source": [
    "number = int(input('Isikan bilangan'))\n",
    "pangkat = int(input('Isikan pangkat'))\n",
    "\n",
    "result = 1\n",
    "for i in range(1, pangkat+1):\n",
    "    result *= number\n",
    "    \n",
    "print(f\"{number} pangkat {pangkat}! adalah {result}\")"
   ]
  },
  {
   "cell_type": "code",
   "execution_count": 5,
   "id": "c05f00e5",
   "metadata": {},
   "outputs": [
    {
     "name": "stdout",
     "output_type": "stream",
     "text": [
      "Isikan Bilangan:9\n",
      "9 adalah Bilangan bukan Prima\n"
     ]
    }
   ],
   "source": [
    "# Cek Bilangan Prima\n",
    "# Bilangan Prima adalah bilangan yang hanya habis dibagi dengan bilangan itu\n",
    "# Sendiri dan 1\n",
    "\n",
    "# Bilangan Prima punya 2 factor\n",
    "\n",
    "# Jika number % 1 == 0 maka nilai factor di increment(+1)\n",
    "# Setelah selesai perulangan, Jika factor == 2 maka bilangan prima\n",
    "\n",
    "number = int(input('Isikan Bilangan:'))\n",
    "faktor = 0\n",
    "for i in range(1, number+1):\n",
    "    sisa = number % i\n",
    "    if number % i == 0:\n",
    "        faktor = faktor + 1\n",
    "        \n",
    "if faktor == 2:\n",
    "    print(f\"{number} adalah Bilangan Prima\")\n",
    "else:\n",
    "    print(f\"{number} adalah Bilangan bukan Prima\")"
   ]
  },
  {
   "cell_type": "code",
   "execution_count": 15,
   "id": "acd3c531",
   "metadata": {},
   "outputs": [
    {
     "name": "stdout",
     "output_type": "stream",
     "text": [
      "22\n",
      "0 U\n",
      "1 n\n",
      "2 i\n",
      "3 v\n",
      "4 e\n",
      "5 r\n",
      "6 s\n",
      "7 i\n",
      "8 t\n",
      "9 a\n",
      "10 s\n",
      "11  \n",
      "12 N\n",
      "13 u\n",
      "14 s\n",
      "15 a\n",
      "16  \n",
      "17 P\n",
      "18 u\n",
      "19 t\n",
      "20 r\n",
      "21 a\n"
     ]
    }
   ],
   "source": [
    "kampus = \"Universitas Nusa Putra\" # Panjang = 22\n",
    "print(len(kampus))\n",
    "\n",
    "for i, huruf in enumerate (kampus):\n",
    "    print(i, huruf)"
   ]
  },
  {
   "cell_type": "code",
   "execution_count": 21,
   "id": "85f11fa5",
   "metadata": {},
   "outputs": [
    {
     "name": "stdout",
     "output_type": "stream",
     "text": [
      "Jumlah huruf a:3\n",
      "Jumlah huruf i:2\n",
      "Jumlah huruf u:3\n",
      "Jumlah huruf e:1\n",
      "Jumlah huruf o:0\n",
      "Jumlah huruf vokal:9\n"
     ]
    }
   ],
   "source": [
    "# Menghitung jumlah huruf vokal\n",
    "\n",
    "kampus = \"universitas nusa putra\"\n",
    "panjang = len(kampus)\n",
    "\n",
    "vokal_a = 0\n",
    "vokal_i = 0\n",
    "vokal_u = 0\n",
    "vokal_e = 0\n",
    "vokal_o = 0\n",
    "\n",
    "for i in range(0, panjang):\n",
    "    if kampus[i]=='a':\n",
    "        vokal_a +=1\n",
    "    elif kampus[i]=='i':\n",
    "        vokal_i +=1\n",
    "    elif kampus[i]=='u':\n",
    "        vokal_u +=1\n",
    "    elif kampus[i]=='e':\n",
    "        vokal_e +=1\n",
    "    elif kampus[i]=='o':\n",
    "        vokal_o +=1\n",
    "        \n",
    "print(f\"Jumlah huruf a:{vokal_a}\")\n",
    "print(f\"Jumlah huruf i:{vokal_i}\")\n",
    "print(f\"Jumlah huruf u:{vokal_u}\")\n",
    "print(f\"Jumlah huruf e:{vokal_e}\")\n",
    "print(f\"Jumlah huruf o:{vokal_o}\")\n",
    "print(f\"Jumlah huruf vokal:{vokal_a + vokal_i + vokal_u + vokal_e + vokal_o}\")"
   ]
  },
  {
   "cell_type": "code",
   "execution_count": 1,
   "id": "ce646b94",
   "metadata": {},
   "outputs": [
    {
     "name": "stdout",
     "output_type": "stream",
     "text": [
      "Isikan Kalimat:AKA\n",
      "AKA adalah Palindrome\n",
      "Apakah mau mengulang program?: MAU DONG/GA AHMAU DONG\n",
      "Isikan Kalimat:AKU\n",
      "AKU adalah bukan Palindrome\n",
      "Apakah mau mengulang program?: MAU DONG/GA AHGA AH\n"
     ]
    }
   ],
   "source": [
    "ulang = \"MAU DONG\"\n",
    "while(ulang==\"MAU DONG\"):\n",
    "    kalimat = input('Isikan Kalimat:')\n",
    "    panjang_kalimat = len(kalimat)\n",
    "\n",
    "    isPalindrome = True\n",
    "    for i in range(0, panjang_kalimat):\n",
    "        urut = kalimat[i]\n",
    "        kebalikan = kalimat[panjang_kalimat - i-1]\n",
    "        if urut != kebalikan:\n",
    "            isPalindrome = False\n",
    "            break\n",
    "\n",
    "    if isPalindrome==True:\n",
    "        print(f\"{kalimat} adalah Palindrome\")\n",
    "    else:\n",
    "        print(f\"{kalimat} adalah bukan Palindrome\")\n",
    "\n",
    "    ulang = input('Apakah mau mengulang program?: MAU DONG/GA AH')"
   ]
  },
  {
   "cell_type": "code",
   "execution_count": 3,
   "id": "1121023d",
   "metadata": {},
   "outputs": [
    {
     "name": "stdout",
     "output_type": "stream",
     "text": [
      "i 1 dan j : 1\n",
      "i 1 dan j : 2\n",
      "i 1 dan j : 3\n",
      "i 1 dan j : 4\n",
      "i 2 dan j : 1\n",
      "i 2 dan j : 2\n",
      "i 2 dan j : 3\n",
      "i 2 dan j : 4\n",
      "i 3 dan j : 1\n",
      "i 3 dan j : 2\n",
      "i 3 dan j : 3\n",
      "i 3 dan j : 4\n",
      "i 4 dan j : 1\n",
      "i 4 dan j : 2\n",
      "i 4 dan j : 3\n",
      "i 4 dan j : 4\n"
     ]
    }
   ],
   "source": [
    "# Nested for\n",
    "\n",
    "for i in range(1,5):\n",
    "    for j in range(1,5):\n",
    "        print(f\"i {i} dan j : {j}\")"
   ]
  },
  {
   "cell_type": "code",
   "execution_count": null,
   "id": "bec63bea",
   "metadata": {},
   "outputs": [],
   "source": []
  }
 ],
 "metadata": {
  "kernelspec": {
   "display_name": "Python 3 (ipykernel)",
   "language": "python",
   "name": "python3"
  },
  "language_info": {
   "codemirror_mode": {
    "name": "ipython",
    "version": 3
   },
   "file_extension": ".py",
   "mimetype": "text/x-python",
   "name": "python",
   "nbconvert_exporter": "python",
   "pygments_lexer": "ipython3",
   "version": "3.9.12"
  }
 },
 "nbformat": 4,
 "nbformat_minor": 5
}
